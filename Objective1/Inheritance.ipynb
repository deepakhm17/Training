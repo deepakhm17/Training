{
 "cells": [
  {
   "cell_type": "markdown",
   "metadata": {},
   "source": [
    "##Objective assignment\n",
    "Class C to inherit from two classes A and B. and refer super classes of both A and B."
   ]
  },
  {
   "cell_type": "code",
   "execution_count": 1,
   "metadata": {},
   "outputs": [
    {
     "name": "stdout",
     "output_type": "stream",
     "text": [
      "In class A, method test\n",
      "In class B, method Btest\n",
      "Post Super.Explictily Refering parent class methods\n",
      "In class A, method test\n",
      "In class B, method test\n"
     ]
    }
   ],
   "source": [
    "class A():\n",
    "    def test(self):\n",
    "        print(\"In class A, method test\")\n",
    "\n",
    "class B():\n",
    "    def test(self):\n",
    "        #return \"In Class B\"\n",
    "        print(\"In class B, method test\")\n",
    "    def Btest(self):\n",
    "        print(\"In class B, method Btest\")\n",
    "\n",
    "class C(A, B):\n",
    "    def functs(self):\n",
    "        ##The below call will call parent methd based on sequence of inheritance\n",
    "        super(C, self).test()\n",
    "        super(C, self).Btest()\n",
    "        print(\"Post Super.Explictily Refering parent class methods\")\n",
    "        A.test(self)\n",
    "        B.test(self)\n",
    "\n",
    "        \n",
    "Val = C()\n",
    "Val.functs()"
   ]
  },
  {
   "cell_type": "code",
   "execution_count": null,
   "metadata": {},
   "outputs": [],
   "source": []
  }
 ],
 "metadata": {
  "kernelspec": {
   "display_name": "Python 3",
   "language": "python",
   "name": "python3"
  },
  "language_info": {
   "codemirror_mode": {
    "name": "ipython",
    "version": 3
   },
   "file_extension": ".py",
   "mimetype": "text/x-python",
   "name": "python",
   "nbconvert_exporter": "python",
   "pygments_lexer": "ipython3",
   "version": "3.7.4"
  }
 },
 "nbformat": 4,
 "nbformat_minor": 2
}
