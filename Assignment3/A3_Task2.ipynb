{
 "cells": [
  {
   "cell_type": "markdown",
   "metadata": {},
   "source": [
    "## Assignment 3 Task2\n",
    "1."
   ]
  },
  {
   "cell_type": "code",
   "execution_count": 1,
   "metadata": {},
   "outputs": [
    {
     "name": "stdout",
     "output_type": "stream",
     "text": [
      "[[1, 1, 1, 1, 1, 1], [5, 25, 125, 625, 3125, 15625], [3, 9, 27, 81, 243, 729]]\n",
      "[[729, 243, 81, 27, 9, 3], [262144, 32768, 4096, 512, 64, 8], [1771561, 161051, 14641, 1331, 121, 11]]\n"
     ]
    }
   ],
   "source": [
    "def geometricProgression(numlst,N,increasing=\"TRUE\"):\n",
    "    if  increasing==\"TRUE\":\n",
    "        matrixlst = [[i**j for j in range(1,N+1)] for i in numlst]\n",
    "    else:\n",
    "        matrixlst = [[i**j for j in range(N,0,-1)] for i in numlst]\n",
    "    print(matrixlst)\n",
    "\n",
    "\n",
    "geometricProgression([1,5,3],6,\"TRUE\")\n",
    "\n",
    "geometricProgression([3,8,11],6,\"FALSE\")"
   ]
  },
  {
   "cell_type": "code",
   "execution_count": null,
   "metadata": {},
   "outputs": [],
   "source": []
  }
 ],
 "metadata": {
  "kernelspec": {
   "display_name": "Python 3",
   "language": "python",
   "name": "python3"
  },
  "language_info": {
   "codemirror_mode": {
    "name": "ipython",
    "version": 3
   },
   "file_extension": ".py",
   "mimetype": "text/x-python",
   "name": "python",
   "nbconvert_exporter": "python",
   "pygments_lexer": "ipython3",
   "version": "3.7.4"
  }
 },
 "nbformat": 4,
 "nbformat_minor": 2
}
