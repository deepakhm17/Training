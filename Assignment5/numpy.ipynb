{
 "cells": [
  {
   "cell_type": "markdown",
   "metadata": {},
   "source": [
    "# Write a function so that columns of output matrix are powers of the input vector.\n",
    "the orders of the powers is determined by the increasing boolean argument. Specifically when increasing is False, the i-th output column is the input vector raised element-wise to the power of N-i-1.\n"
   ]
  },
  {
   "cell_type": "code",
   "execution_count": 24,
   "metadata": {},
   "outputs": [
    {
     "name": "stdout",
     "output_type": "stream",
     "text": [
      "decreasing powers from 10\n",
      "[[     1      1      1      1      1      1      1      1      1      1]\n",
      " [   512    256    128     64     32     16      8      4      2      1]\n",
      " [262144  65536  16384   4096   1024    256     64     16      4      1]]\n"
     ]
    }
   ],
   "source": [
    "import numpy as np\n",
    "##default value of N as None and increasing to False\n",
    "def vandermode(inlist, N = None, increasing = False):\n",
    "    if N==None:\n",
    "       N = len(inlist)\n",
    "    if increasing==False:\n",
    "        print(\"decreasing powers from\", N)\n",
    "        result=[[pow(num, N-i-1) for i in range(N)] for num in inlist ]\n",
    "        print(np.asanyarray(result))\n",
    "    else:\n",
    "        print(\"increasing powers till\", N)\n",
    "        result=[[pow(num, i) for i in range(N)] for num in inlist ]\n",
    "        print(np.asanyarray(result))\n",
    "\n",
    "vandermode([1,2,4], N = 10, increasing = False)"
   ]
  },
  {
   "cell_type": "markdown",
   "metadata": {},
   "source": [
    "## Problem Statement\n",
    "Given a sequence of n values x1,x2...xn and a window size k>0, the kth moving average of the given sequence is defined as follows:\n",
    "The moving average sequence has n-k+1 elements as shown below.\n",
    "The moving average with k=4 of a ten value sequence is shown below.\n",
    "i     1 2 3 4 5 6 7 8 9 10\n",
    "--    ---------------------\n",
    "input 10 20 30 40 50 60 70 80 90 100\n",
    "y1    25=(10+20+30+40)/4\n",
    "y2    35=(20+30+40+50)/4\n",
    "y3    45=(30+40+50+60)/4\n",
    "y4    55=(40+50+60+70)/4\n",
    "y5    65=(50+60+70+80)/4\n",
    "y6    75=(60+70+80+90)/4\n",
    "y7    85=(70+80+90+100)/4\n",
    "Thus, the moving average sequence has n-k+1 = 10-4+1=7 values"
   ]
  },
  {
   "cell_type": "code",
   "execution_count": 74,
   "metadata": {},
   "outputs": [
    {
     "name": "stdout",
     "output_type": "stream",
     "text": [
      "The moving average of sequence [10, 20, 30, 40, 50, 60, 70, 80, 90, 100] and window size value 4 is:\n",
      " [25.0, 35.0, 45.0, 55.0, 65.0, 75.0, 85.0]\n",
      "\n",
      "The moving average of sequence [20, 30, 40, 50, 60, 70] and window size value 3 is:\n",
      " [30.0, 40.0, 50.0, 60.0]\n",
      "\n"
     ]
    }
   ],
   "source": [
    "import numpy as np\n",
    "def movingAvg(ilist,k=1):\n",
    "    Ylen=len(ilist)-k+1\n",
    "    Fullarray=[[ilist[i] for i in range(j,j+k)] for j in range(Ylen) ]\n",
    "    Y=[np.average(x) for x in Fullarray]\n",
    "    print(\"The moving average of sequence %s and window size value %d is:\\n %s\\n\" % (ilist, k,  Y))\n",
    "    \n",
    "##moving average of 6 values of value k=3\n",
    "movingAvg([10,20,30,40,50,60,70,80,90,100],4)\n",
    "\n",
    "##moving average of 6 values of value k=3    \n",
    "movingAvg([20,30,40,50,60,70],3)"
   ]
  }
 ],
 "metadata": {
  "kernelspec": {
   "display_name": "Python 3",
   "language": "python",
   "name": "python3"
  },
  "language_info": {
   "codemirror_mode": {
    "name": "ipython",
    "version": 3
   },
   "file_extension": ".py",
   "mimetype": "text/x-python",
   "name": "python",
   "nbconvert_exporter": "python",
   "pygments_lexer": "ipython3",
   "version": "3.7.4"
  }
 },
 "nbformat": 4,
 "nbformat_minor": 2
}
