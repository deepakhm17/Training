{
 "cells": [
  {
   "cell_type": "markdown",
   "metadata": {},
   "source": [
    "# Task 1"
   ]
  },
  {
   "cell_type": "markdown",
   "metadata": {},
   "source": [
    "# 1.1"
   ]
  },
  {
   "cell_type": "code",
   "execution_count": 21,
   "metadata": {},
   "outputs": [
    {
     "name": "stdout",
     "output_type": "stream",
     "text": [
      "Full name is  sachin ramesh tendulkar\n"
     ]
    }
   ],
   "source": [
    "def myreduce(fn, seq):\n",
    "    ##initalizing the val to avoid unbound local error\n",
    "    val=\"\"\n",
    "    for p in seq:\n",
    "        val= fn(val, p)\n",
    "\n",
    "    return val\n",
    "\n",
    "def appends(x,y):\n",
    "    return x+' '+y\n",
    "\n",
    "\n",
    "namelsts=['Sachin', 'Ramesh', 'Tendulkar']\n",
    "fullname = myreduce(appends,namelsts)\n",
    "print(\"Full name is \"+ a)\n"
   ]
  },
  {
   "cell_type": "markdown",
   "metadata": {},
   "source": [
    "# 1.2"
   ]
  },
  {
   "cell_type": "code",
   "execution_count": 72,
   "metadata": {},
   "outputs": [
    {
     "name": "stdout",
     "output_type": "stream",
     "text": [
      "['Sachin', 'Tendulkar']\n"
     ]
    }
   ],
   "source": [
    "\n",
    "def myfilter(fn1, mylst):\n",
    "    rlst=[]\n",
    "    for p in mylst:\n",
    "        if fn1(p):\n",
    "            rlst.append(p)\n",
    "    return rlst      \n",
    "\n",
    "def strcheck(x):\n",
    "    if type(x) is str:\n",
    "        ##print(x)\n",
    "        return True\n",
    "    else:\n",
    "        return False\n",
    "    \n",
    "nlsts=['Sachin', 'Tendulkar',123,5.20]\n",
    "strlst=myfilter(strcheck,nlsts)\n",
    "print(strlst)"
   ]
  },
  {
   "cell_type": "markdown",
   "metadata": {},
   "source": [
    "# 2."
   ]
  },
  {
   "cell_type": "code",
   "execution_count": 115,
   "metadata": {},
   "outputs": [
    {
     "name": "stdout",
     "output_type": "stream",
     "text": [
      "['A', 'C', 'A', 'D', 'G', 'I', 'L', 'D']\n",
      "['x', 'xx', 'xxx', 'xxxx', 'y', 'yy', 'yyy', 'yyyy', 'z', 'zz', 'zzz', 'zzzz']\n",
      "['x', 'y', 'z', 'xx', 'yy', 'zz', 'xx', 'yy', 'zz', 'xxxx', 'yyyy', 'zzzz']\n",
      "[[2], [3], [4], [3], [4], [5], [4], [5], [6]]\n",
      "[[2, 3, 4, 5], [3, 4, 5, 6], [4, 5, 6, 7], [5, 6, 7, 8]]\n",
      "[(1, 1), (2, 1), (3, 1), (1, 2), (2, 2), (3, 2), (1, 3), (2, 3), (3, 3)]\n"
     ]
    }
   ],
   "source": [
    "\n",
    "# 1\n",
    "String = \"ACADGILD\"\n",
    "result1 = [char for char in String]\n",
    "print(result1)\n",
    "\n",
    "# 2\n",
    "charlst = ['x','y','z']\n",
    "result2 = [i*times for i in charlst for times in range(1,5)]\n",
    "print(result2)\n",
    "\n",
    "# 3 Repeated custom pattern 1,2,2,4\n",
    "charlst = ['x','y','z']\n",
    "custtimes=[1,2,2,4]\n",
    "result3 = [i*times for times in custtimes for i in charlst ]\n",
    "print(result3)\n",
    "\n",
    "#4\n",
    "result4 = [[i+j] for i in range(2,5) for j in range(3)]\n",
    "print(result4)\n",
    "\n",
    "#5\n",
    "result5 = [[i+j for j in range(2,6)] for i in range(0,4)] \n",
    "print(result5)\n",
    "\n",
    "#6\n",
    "result6 = [(i,j) for j in range(1,4) for i in range(1,4)] \n",
    "print(result6)"
   ]
  },
  {
   "cell_type": "markdown",
   "metadata": {},
   "source": [
    "# 3.0"
   ]
  },
  {
   "cell_type": "code",
   "execution_count": 132,
   "metadata": {},
   "outputs": [
    {
     "name": "stdout",
     "output_type": "stream",
     "text": [
      "longest word is Abcdefghijk\n"
     ]
    }
   ],
   "source": [
    "def longestword(wrdlst):\n",
    "    wrdlen=0\n",
    "    for wrd in wrdlst:\n",
    "        if len(wrd)>wrdlen:\n",
    "            wrdlen=len(wrd)\n",
    "            longwrd=wrd\n",
    "    return longwrd\n",
    "\n",
    "\n",
    "lst=[\"Abc123\",\"Abcdef\",\"Abcdefgh\",\"Abcdefghijk\"]    \n",
    "print(\"longest word is \" + longestword(lst))"
   ]
  }
 ],
 "metadata": {
  "kernelspec": {
   "display_name": "Python 3",
   "language": "python",
   "name": "python3"
  },
  "language_info": {
   "codemirror_mode": {
    "name": "ipython",
    "version": 3
   },
   "file_extension": ".py",
   "mimetype": "text/x-python",
   "name": "python",
   "nbconvert_exporter": "python",
   "pygments_lexer": "ipython3",
   "version": "3.7.4"
  }
 },
 "nbformat": 4,
 "nbformat_minor": 2
}
