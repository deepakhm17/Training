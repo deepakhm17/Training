{
 "cells": [
  {
   "cell_type": "markdown",
   "metadata": {},
   "source": [
    "# Task 2"
   ]
  },
  {
   "cell_type": "markdown",
   "metadata": {},
   "source": [
    "# 1.1"
   ]
  },
  {
   "cell_type": "code",
   "execution_count": 2,
   "metadata": {},
   "outputs": [
    {
     "name": "stdout",
     "output_type": "stream",
     "text": [
      "Input the 3 dimensions values a, b, c of triangle \n",
      "a: 10\n",
      "b: 10\n",
      "c: 10\n",
      "Area of triangle in square units is  43.301270\n"
     ]
    }
   ],
   "source": [
    "#Main Class\n",
    "class TriangleDim:\n",
    "    def __init__(self,a,b,c):\n",
    "        self.a1=a\n",
    "        self.b1=b\n",
    "        self.c1=c\n",
    "##to cross verify the input from parent class object:        \n",
    "    def __str__(self):\n",
    "        return \"Dimension a, b, c values are %d , %d and %d \" % (self.a1, self.b1, self.c1)\n",
    "##sub class\n",
    "class AreaCalc(TriangleDim):\n",
    "    def __init__(self, *args):\n",
    "        super(AreaCalc,self).__init__(*args)\n",
    "       \n",
    "    def __str__(self):\n",
    "        s = (self.a1 + self.b1 + self.c1 ) / 2\n",
    "        AreaSq = (s * (s - self.a1) * (s - self.b1) * (s - self.c1)) ** 0.5\n",
    "        return \"Area of triangle in square units is  %f\" %AreaSq\n",
    "    \n",
    "#sides=TriangleDim(2,4,6)\n",
    "#print(sides)\n",
    "\n",
    "\n",
    "##Area\n",
    "Triangle=AreaCalc(int(input('Input the 3 dimensions values a, b, c of triangle \\na: ')),int(input('b: ')),int(input('c: ')))\n",
    "print(Triangle)\n"
   ]
  },
  {
   "cell_type": "markdown",
   "metadata": {},
   "source": [
    "# 1.2"
   ]
  },
  {
   "cell_type": "code",
   "execution_count": 3,
   "metadata": {},
   "outputs": [
    {
     "name": "stdout",
     "output_type": "stream",
     "text": [
      "['SachinTendulkar', 'SouravGanguly']\n"
     ]
    }
   ],
   "source": [
    "def filter_long_words(wrdlst,n):\n",
    "    longnames=[]\n",
    "    for wrd in wrdlst:\n",
    "        if len(wrd)>n:\n",
    "            longnames.append(wrd)\n",
    "    return longnames\n",
    "\n",
    "namelst=[\"SachinTendulkar\",\"Rahuldravid\",\"SouravGanguly\"]\n",
    "##To filter the names length greater than 12 chars\n",
    "print(filter_long_words(namelst,12))"
   ]
  },
  {
   "cell_type": "markdown",
   "metadata": {},
   "source": [
    "# 2.1"
   ]
  },
  {
   "cell_type": "code",
   "execution_count": 4,
   "metadata": {},
   "outputs": [
    {
     "name": "stdout",
     "output_type": "stream",
     "text": [
      "[3, 5, 8]\n"
     ]
    }
   ],
   "source": [
    "def mapwrd2length(wrdlst):\n",
    "    return list(map(len,wrdlst))\n",
    "\n",
    "wordlst=[\"abc\",\"abcde\",\"abcde123\"] \n",
    "print(mapwrd2length(wordlst))"
   ]
  },
  {
   "cell_type": "markdown",
   "metadata": {},
   "source": [
    "# 2.2"
   ]
  },
  {
   "cell_type": "code",
   "execution_count": 7,
   "metadata": {},
   "outputs": [
    {
     "name": "stdout",
     "output_type": "stream",
     "text": [
      "Input a letter to check whether it is vowel or not \n",
      " Y\n",
      "VowelCheck is False\n"
     ]
    }
   ],
   "source": [
    "def vowel_check(chars):\n",
    "    vowel=['a','e','i','o','u']\n",
    "    for ltr in vowel:\n",
    "        if ltr == chars:\n",
    "            return True\n",
    "        else:\n",
    "            return False\n",
    "VowelResult=vowel_check(input('Input a letter to check whether it is vowel or not \\n '))\n",
    "print(\"VowelCheck is\", VowelResult)"
   ]
  }
 ],
 "metadata": {
  "kernelspec": {
   "display_name": "Python 3",
   "language": "python",
   "name": "python3"
  },
  "language_info": {
   "codemirror_mode": {
    "name": "ipython",
    "version": 3
   },
   "file_extension": ".py",
   "mimetype": "text/x-python",
   "name": "python",
   "nbconvert_exporter": "python",
   "pygments_lexer": "ipython3",
   "version": "3.7.4"
  }
 },
 "nbformat": 4,
 "nbformat_minor": 2
}
